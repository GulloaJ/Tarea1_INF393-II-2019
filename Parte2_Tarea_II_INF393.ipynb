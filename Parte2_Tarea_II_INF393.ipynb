{
 "cells": [
  {
   "cell_type": "markdown",
   "metadata": {},
   "source": [
    "#### <a id=\"segundo\"></a>\n",
    "## 2. PARTE 2 TAREA: Estimación de edad de personas\n",
    "El problema de inferir ciertas características de una persona a través de una foto de ella puede resultar bastante dificil incluso para nosotros, como por ejemplo de qué país es, la emoción que expresa, la edad que tiene, o el género. La automatización de este proceso para que máquinas logren identificar ciertas características de una persona puede ser algo crucial para el futuro desarrollo de Inteligencia Artificial.\n",
    "\n",
    "<img src=\"https://i.imgur.com/6B072GE.jpg\" width=\"60%\" height=\"20%\" />\n",
    "\n",
    "Se trabajará con datos (imágenes) con el **objetivo** de predecir la **edad** (*target value*) de la persona presente en la imagen. Los datos corresponden a 3640 imágenes de rostros de personas extraídos de la plataforma Flickr\n",
    "```\n"
   ]
  },
  {
   "cell_type": "code",
   "execution_count": 3,
   "metadata": {},
   "outputs": [],
   "source": [
    "#importando librerías requeridas inicialmente\n",
    "\n",
    "import pandas as pd\n",
    "import numpy as np"
   ]
  },
  {
   "cell_type": "code",
   "execution_count": 4,
   "metadata": {},
   "outputs": [],
   "source": [
    "#importando MAPE para su utilización como métrica de evaluación\n",
    "\n",
    "import numpy as np\n",
    "def mean_absolute_percentage_error(y_true, y_pred): \n",
    "    return np.mean(np.abs((y_true - y_pred) / y_true)) * 100"
   ]
  },
  {
   "cell_type": "code",
   "execution_count": 5,
   "metadata": {},
   "outputs": [],
   "source": [
    "#datos para entrenamiento y test\n",
    "\n",
    "import scipy.io as sio\n",
    "mat_file = sio.loadmat(\"C:/Users/gusta/Desktop/AgeGenderClassification/eventrain.mat\")\n",
    "mat_file_test = sio.loadmat(\"C:/Users/gusta/Desktop/AgeGenderClassification/eventest.mat\")"
   ]
  },
  {
   "cell_type": "code",
   "execution_count": 6,
   "metadata": {},
   "outputs": [],
   "source": [
    "#Se usarán los siguientes atributos para el entrenamiento del modelo\n",
    "\n",
    "data = mat_file[\"trcoll\"][0][0] # is \"tecoll\" for training set\n",
    "age_true = data[1] #target\n",
    "genFeat = data[0]   # Contextual features\n",
    "ffcoefs = data[3]   # Fisherface space\n",
    "faceGist = data[4]  # GIST features"
   ]
  },
  {
   "cell_type": "code",
   "execution_count": 7,
   "metadata": {},
   "outputs": [],
   "source": [
    "#Se usarán los siguientes atributos para el testing del modelo\n",
    "\n",
    "data = mat_file_test[\"tecoll\"][0][0] # is \"tecoll\" for testing set\n",
    "age_true_test = data[1] #target\n",
    "genFeat_test = data[0]   # Contextual features\n",
    "ffcoefs_test = data[3]   # Fisherface space\n",
    "faceGist_test = data[4]  # GIST features"
   ]
  },
  {
   "cell_type": "code",
   "execution_count": 8,
   "metadata": {},
   "outputs": [],
   "source": [
    "# Conjunto de prueba\n",
    "\n",
    "#Acá se genera una concatenación de los atributos para trabajar con una gran matriz.\n",
    "\n",
    "X_test = np.concatenate((genFeat_test, ffcoefs_test, faceGist_test), axis = 1)\n",
    "Y_test = age_true_test[:,0]"
   ]
  },
  {
   "cell_type": "code",
   "execution_count": 9,
   "metadata": {},
   "outputs": [],
   "source": [
    "# Conjunto de entrenamiento\n",
    "\n",
    "#Acá se genera una concatenación de los atributos para trabajar con una gran matriz.\n",
    "\n",
    "X_train = np.concatenate((genFeat, ffcoefs, faceGist), axis = 1)\n",
    "Y_train = age_true[:,0]"
   ]
  },
  {
   "cell_type": "markdown",
   "metadata": {},
   "source": [
    "A continuación se prueba con otro modelo solamente para ver como se está comportando (algo totalmente opcional) se usa Random Forest para esto:"
   ]
  },
  {
   "cell_type": "code",
   "execution_count": 10,
   "metadata": {},
   "outputs": [],
   "source": [
    "#Uso opcional de prueba de Random Forest.\n",
    "\n",
    "from sklearn.ensemble import RandomForestRegressor\n",
    "\n",
    "rf_clf = RandomForestRegressor(n_jobs=-1)"
   ]
  },
  {
   "cell_type": "code",
   "execution_count": 11,
   "metadata": {},
   "outputs": [
    {
     "name": "stderr",
     "output_type": "stream",
     "text": [
      "C:\\Users\\gusta\\Anaconda3\\lib\\site-packages\\sklearn\\ensemble\\forest.py:245: FutureWarning: The default value of n_estimators will change from 10 in version 0.20 to 100 in 0.22.\n",
      "  \"10 in version 0.20 to 100 in 0.22.\", FutureWarning)\n"
     ]
    },
    {
     "data": {
      "text/plain": [
       "RandomForestRegressor(bootstrap=True, criterion='mse', max_depth=None,\n",
       "                      max_features='auto', max_leaf_nodes=None,\n",
       "                      min_impurity_decrease=0.0, min_impurity_split=None,\n",
       "                      min_samples_leaf=1, min_samples_split=2,\n",
       "                      min_weight_fraction_leaf=0.0, n_estimators=10, n_jobs=-1,\n",
       "                      oob_score=False, random_state=None, verbose=0,\n",
       "                      warm_start=False)"
      ]
     },
     "execution_count": 11,
     "metadata": {},
     "output_type": "execute_result"
    }
   ],
   "source": [
    "#Entrenamiento con Random Forest \n",
    "\n",
    "rf_clf.fit(X_train, Y_train)"
   ]
  },
  {
   "cell_type": "code",
   "execution_count": 12,
   "metadata": {},
   "outputs": [
    {
     "data": {
      "text/plain": [
       "83.73080878351341"
      ]
     },
     "execution_count": 12,
     "metadata": {},
     "output_type": "execute_result"
    }
   ],
   "source": [
    "#MAPE en Random Forest\n",
    "\n",
    "mean_absolute_percentage_error(Y_train, rf_clf.predict(X_train))"
   ]
  },
  {
   "cell_type": "code",
   "execution_count": 13,
   "metadata": {},
   "outputs": [
    {
     "data": {
      "text/plain": [
       "189.36028898225956"
      ]
     },
     "execution_count": 13,
     "metadata": {},
     "output_type": "execute_result"
    }
   ],
   "source": [
    "#MAPE en Random Forest \n",
    "\n",
    "mean_absolute_percentage_error(Y_test, rf_clf.predict(X_test))"
   ]
  },
  {
   "cell_type": "markdown",
   "metadata": {},
   "source": [
    "### A continuación se hará uso de lo solicitado en la tarea, es decir con redes feed forward (redes neuronales densas en este caso)"
   ]
  },
  {
   "cell_type": "code",
   "execution_count": 14,
   "metadata": {},
   "outputs": [
    {
     "name": "stderr",
     "output_type": "stream",
     "text": [
      "Using TensorFlow backend.\n"
     ]
    }
   ],
   "source": [
    "import tensorflow as tf\n",
    "import keras\n",
    "\n",
    "from keras.models import Sequential\n",
    "from keras.layers import Dense\n",
    "from keras.layers.advanced_activations import LeakyReLU"
   ]
  },
  {
   "cell_type": "code",
   "execution_count": 15,
   "metadata": {},
   "outputs": [
    {
     "data": {
      "text/plain": [
       "651"
      ]
     },
     "execution_count": 15,
     "metadata": {},
     "output_type": "execute_result"
    }
   ],
   "source": [
    "X_train.shape[1]"
   ]
  },
  {
   "cell_type": "code",
   "execution_count": 16,
   "metadata": {},
   "outputs": [
    {
     "name": "stderr",
     "output_type": "stream",
     "text": [
      "WARNING: Logging before flag parsing goes to stderr.\n",
      "W1011 11:58:33.844890  9384 deprecation_wrapper.py:119] From C:\\Users\\gusta\\Anaconda3\\lib\\site-packages\\keras\\backend\\tensorflow_backend.py:66: The name tf.get_default_graph is deprecated. Please use tf.compat.v1.get_default_graph instead.\n",
      "\n",
      "W1011 11:58:34.267182  9384 deprecation_wrapper.py:119] From C:\\Users\\gusta\\Anaconda3\\lib\\site-packages\\keras\\backend\\tensorflow_backend.py:541: The name tf.placeholder is deprecated. Please use tf.compat.v1.placeholder instead.\n",
      "\n",
      "W1011 11:58:34.360387  9384 deprecation_wrapper.py:119] From C:\\Users\\gusta\\Anaconda3\\lib\\site-packages\\keras\\backend\\tensorflow_backend.py:4432: The name tf.random_uniform is deprecated. Please use tf.random.uniform instead.\n",
      "\n"
     ]
    }
   ],
   "source": [
    "#CONSTRUCCION DE LA ARQUITECTURA DE LA RED\n",
    "#Se usará la funnción de activación relu, que es una de las cuales mejores resultados ha arrojado probando\n",
    "#Del mismo modo una regularización del Kernel mediante \"l2 y un inicializador de este con glorot_uniform.\n",
    "\n",
    "base_nn = Sequential()\n",
    "base_nn.add(\n",
    "    Dense(30, input_dim = X_train.shape[1],\n",
    "         kernel_initializer = 'glorot_uniform',\n",
    "         activation = 'relu',\n",
    "         name = 'input_layer')\n",
    ")\n",
    "\n",
    "base_nn.add(\n",
    "    Dense(100,\n",
    "         kernel_initializer = 'glorot_uniform',\n",
    "         activation = 'relu',\n",
    "          kernel_regularizer = 'l2',\n",
    "         name = 'hidden_1')\n",
    ")\n",
    "\n",
    "base_nn.add(\n",
    "    Dense(100,\n",
    "         kernel_initializer = 'glorot_uniform',\n",
    "         activation = 'relu',\n",
    "          kernel_regularizer = 'l2',\n",
    "         name = 'hidden_2')\n",
    ")\n",
    "base_nn.add(\n",
    "    Dense(100,\n",
    "         kernel_initializer = 'glorot_uniform',\n",
    "          kernel_regularizer = 'l2',\n",
    "         activation = 'relu',\n",
    "         name = 'hidden_3')\n",
    ")\n",
    "base_nn.add(\n",
    "    Dense(100,\n",
    "         kernel_initializer = 'glorot_uniform',\n",
    "         activation = 'relu',\n",
    "        kernel_regularizer = 'l2',\n",
    "         name = 'hidden_4')\n",
    ")\n",
    "base_nn.add(\n",
    "    Dense(100,\n",
    "         kernel_initializer = 'glorot_uniform',\n",
    "         activation = 'relu',\n",
    "         kernel_regularizer = 'l2',\n",
    "         name = 'hidden_5')\n",
    ")\n",
    "\n",
    "base_nn.add(\n",
    "    Dense(50,\n",
    "         kernel_initializer = 'glorot_uniform',\n",
    "         activation = 'relu',\n",
    "         kernel_regularizer = 'l2',\n",
    "         name = 'hidden_6')\n",
    ")\n",
    "\n",
    "base_nn.add(\n",
    "    Dense(20,\n",
    "         kernel_initializer = 'glorot_uniform',\n",
    "         activation = 'relu',\n",
    "         name = 'hidden_7')\n",
    ")\n",
    "base_nn.add(\n",
    "    Dense(1,\n",
    "         kernel_initializer = 'glorot_uniform',\n",
    "         activation = 'relu',\n",
    "         name = 'out')\n",
    ")"
   ]
  },
  {
   "cell_type": "code",
   "execution_count": 17,
   "metadata": {},
   "outputs": [
    {
     "name": "stdout",
     "output_type": "stream",
     "text": [
      "Model: \"sequential_1\"\n",
      "_________________________________________________________________\n",
      "Layer (type)                 Output Shape              Param #   \n",
      "=================================================================\n",
      "input_layer (Dense)          (None, 30)                19560     \n",
      "_________________________________________________________________\n",
      "hidden_1 (Dense)             (None, 100)               3100      \n",
      "_________________________________________________________________\n",
      "hidden_2 (Dense)             (None, 100)               10100     \n",
      "_________________________________________________________________\n",
      "hidden_3 (Dense)             (None, 100)               10100     \n",
      "_________________________________________________________________\n",
      "hidden_4 (Dense)             (None, 100)               10100     \n",
      "_________________________________________________________________\n",
      "hidden_5 (Dense)             (None, 100)               10100     \n",
      "_________________________________________________________________\n",
      "hidden_6 (Dense)             (None, 50)                5050      \n",
      "_________________________________________________________________\n",
      "hidden_7 (Dense)             (None, 20)                1020      \n",
      "_________________________________________________________________\n",
      "out (Dense)                  (None, 1)                 21        \n",
      "=================================================================\n",
      "Total params: 69,151\n",
      "Trainable params: 69,151\n",
      "Non-trainable params: 0\n",
      "_________________________________________________________________\n"
     ]
    }
   ],
   "source": [
    "base_nn.summary()"
   ]
  },
  {
   "cell_type": "code",
   "execution_count": 18,
   "metadata": {},
   "outputs": [],
   "source": [
    "from sklearn.model_selection import train_test_split\n",
    "\n",
    "X_train_2, x_val, Y_train_2, y_val = train_test_split(X_train, Y_train, random_state = 11235813, test_size = .33)"
   ]
  },
  {
   "cell_type": "code",
   "execution_count": 19,
   "metadata": {},
   "outputs": [],
   "source": [
    "from keras.callbacks import History\n",
    "history = History()"
   ]
  },
  {
   "cell_type": "code",
   "execution_count": 20,
   "metadata": {},
   "outputs": [
    {
     "name": "stderr",
     "output_type": "stream",
     "text": [
      "W1011 11:58:34.797784  9384 deprecation_wrapper.py:119] From C:\\Users\\gusta\\Anaconda3\\lib\\site-packages\\keras\\optimizers.py:793: The name tf.train.Optimizer is deprecated. Please use tf.compat.v1.train.Optimizer instead.\n",
      "\n",
      "W1011 11:58:35.485793  9384 deprecation_wrapper.py:119] From C:\\Users\\gusta\\Anaconda3\\lib\\site-packages\\keras\\backend\\tensorflow_backend.py:1033: The name tf.assign_add is deprecated. Please use tf.compat.v1.assign_add instead.\n",
      "\n",
      "W1011 11:58:35.485793  9384 deprecation_wrapper.py:119] From C:\\Users\\gusta\\Anaconda3\\lib\\site-packages\\keras\\backend\\tensorflow_backend.py:1020: The name tf.assign is deprecated. Please use tf.compat.v1.assign instead.\n",
      "\n"
     ]
    },
    {
     "data": {
      "text/plain": [
       "<keras.callbacks.History at 0x1832e151160>"
      ]
     },
     "execution_count": 20,
     "metadata": {},
     "output_type": "execute_result"
    }
   ],
   "source": [
    "#Optimizador Adagrad, función de pérdida se usará la métrica de evaluación MAPE\n",
    "# Se corroboró con varios epochs, dejando 200 finalmente\n",
    "\n",
    "from keras.optimizers import Adagrad\n",
    "\n",
    "base_nn.compile(optimizer=Adagrad(), loss = 'MAPE', metrics = ['mse'])\n",
    "base_nn.fit(X_train_2, Y_train_2, epochs = 200, batch_size = 128, verbose = 0, callbacks=[history], validation_data=(x_val, y_val))"
   ]
  },
  {
   "cell_type": "code",
   "execution_count": 21,
   "metadata": {},
   "outputs": [
    {
     "data": {
      "text/plain": [
       "dict_keys(['val_loss', 'val_mean_squared_error', 'loss', 'mean_squared_error'])"
      ]
     },
     "execution_count": 21,
     "metadata": {},
     "output_type": "execute_result"
    }
   ],
   "source": [
    "history.history.keys()"
   ]
  },
  {
   "cell_type": "code",
   "execution_count": 22,
   "metadata": {},
   "outputs": [],
   "source": [
    "loss_train = history.history['loss']\n",
    "loss_val = history.history['val_loss']"
   ]
  },
  {
   "cell_type": "code",
   "execution_count": 25,
   "metadata": {},
   "outputs": [
    {
     "name": "stdout",
     "output_type": "stream",
     "text": [
      "Final loss (Validation): 101.8522\n"
     ]
    },
    {
     "data": {
      "image/png": "[encoded data removed]",
      "text/plain": [
       "<Figure size 1152x576 with 1 Axes>"
      ]
     },
     "metadata": {
      "needs_background": "light"
     },
     "output_type": "display_data"
    }
   ],
   "source": [
    "import matplotlib.pyplot as plt\n",
    "import seaborn as sn\n",
    "print('Final loss (Validation): {0}'.format(loss_val[-1].round(4)))\n",
    "\n",
    "fig,_ = plt.subplots(figsize = (16,8))\n",
    "plt.title('MAPE across training for 200 epoch', size = 20)\n",
    "plt.xlabel('Epoch', size = 15)\n",
    "plt.ylabel('MAPE', size = 15)\n",
    "plt.plot(range(1,201), loss_train, '-', label = 'Train MAPE');\n",
    "plt.plot(range(1,201), loss_val, '-', label = 'Validation MAPE');\n",
    "plt.legend();\n",
    "sn.despine()"
   ]
  },
  {
   "cell_type": "code",
   "execution_count": 26,
   "metadata": {},
   "outputs": [
    {
     "data": {
      "text/plain": [
       "26.571428"
      ]
     },
     "execution_count": 26,
     "metadata": {},
     "output_type": "execute_result"
    }
   ],
   "source": [
    "#USO OPCIONAL PARA CORROBORAR error\n",
    "\n",
    "from sklearn.metrics import mean_absolute_error\n",
    "\n",
    "mean_absolute_error(Y_test, base_nn.predict(X_test))"
   ]
  },
  {
   "cell_type": "code",
   "execution_count": 27,
   "metadata": {},
   "outputs": [
    {
     "data": {
      "text/plain": [
       "100.0"
      ]
     },
     "execution_count": 27,
     "metadata": {},
     "output_type": "execute_result"
    }
   ],
   "source": [
    "#MAPE SOLICITADO PARA LA RED NEURONAL\n",
    "\n",
    "mean_absolute_percentage_error(Y_test, base_nn.predict(X_test))\n"
   ]
  },
  {
   "cell_type": "code",
   "execution_count": 28,
   "metadata": {},
   "outputs": [
    {
     "data": {
      "text/plain": [
       "189.36028898225956"
      ]
     },
     "execution_count": 28,
     "metadata": {},
     "output_type": "execute_result"
    }
   ],
   "source": [
    "#RECORDANDO MAPE CON RANDOM FOREST PARA COMPARACIÓN CON LA RED NEURONAL\n",
    "\n",
    "mean_absolute_percentage_error(Y_test, rf_clf.predict(X_test))"
   ]
  },
  {
   "cell_type": "code",
   "execution_count": 29,
   "metadata": {},
   "outputs": [
    {
     "name": "stderr",
     "output_type": "stream",
     "text": [
      "C:\\Users\\gusta\\Anaconda3\\lib\\site-packages\\statsmodels\\nonparametric\\kde.py:487: RuntimeWarning: invalid value encountered in true_divide\n",
      "  binned = fast_linbin(X, a, b, gridsize) / (delta * nobs)\n",
      "C:\\Users\\gusta\\Anaconda3\\lib\\site-packages\\statsmodels\\nonparametric\\kdetools.py:34: RuntimeWarning: invalid value encountered in double_scalars\n",
      "  FAC1 = 2*(np.pi*bw/RANGE)**2\n"
     ]
    },
    {
     "data": {
      "text/plain": [
       "<matplotlib.axes._subplots.AxesSubplot at 0x184032bed30>"
      ]
     },
     "execution_count": 29,
     "metadata": {},
     "output_type": "execute_result"
    },
    {
     "data": {
      "image/png": "[encoded data removed]",
      "text/plain": [
       "<Figure size 432x288 with 1 Axes>"
      ]
     },
     "metadata": {
      "needs_background": "light"
     },
     "output_type": "display_data"
    }
   ],
   "source": [
    "#Gráfico de distibución\n",
    "\n",
    "sn.distplot(base_nn.predict(X_test))"
   ]
  },
  {
   "cell_type": "code",
   "execution_count": 30,
   "metadata": {},
   "outputs": [
    {
     "data": {
      "text/plain": [
       "<matplotlib.axes._subplots.AxesSubplot at 0x184032b7f98>"
      ]
     },
     "execution_count": 30,
     "metadata": {},
     "output_type": "execute_result"
    },
    {
     "data": {
      "image/png": "[encoded data removed]",
      "text/plain": [
       "<Figure size 432x288 with 1 Axes>"
      ]
     },
     "metadata": {
      "needs_background": "light"
     },
     "output_type": "display_data"
    }
   ],
   "source": [
    "#Gráfico de distibución\n",
    "\n",
    "sn.distplot(Y_test)"
   ]
  },
  {
   "cell_type": "markdown",
   "metadata": {},
   "source": [
    "## Algunas consideraciones finales\n",
    "\n",
    "### Se encuentran mejores ajustes mediante el uso de la red neuronal co la configuración dada. Se probaron distintas configuraciones, del mismo modo distintos optimizadores y funciones de activación. El uso de la combinación del regularizador l2 y del inicializador \"glorot_uniform\" para el kernel mejoraron considerablemente el resultado final, logrando una mejor uniformidad de las muestras, lo que generó una disminución del MAPE final. \n",
    "\n",
    "### Arquitectura de la red usada\n",
    "\n",
    "#### El uso de la famosa función de activación ReLU usada en la Arquitectura elegida para la red se debe a que cuando procesamos una imagen, cada capa de convolución debe capturar algún patrón en la imagen y pasarla en la siguiente capa de convolución. Los valores negativos no son importantes en el procesamiento de imágenes y, por lo tanto, se establecen en 0. Pero los valores positivos después de la convolución deben pasar a la siguiente capa. Es por eso que Relu se utiliza bastante como una función de activación en redes neuronales, más aún cuando se trabaja con patrones en imágenes.\n",
    "\n",
    "#### ReLU (x) = 0 si x = 0.\n",
    "\n",
    "#### Del mismo modo el uso de inicializador del nucleo es importante ya que la red neuronal necesita comenzar con algunos pesos y luego actualizarlos iterativamente a mejores valores. El t kernel_initializer es un término que se utiliza como función para inicializar los pesos y una de las ampliamente utilizadas es la glorot_uniform.\n",
    "\n",
    "#### Se uso además unn regularizador para evitar el sobreajuste que se encontró en algún momento al no usar este regularizador, L1 y L2 son los tipos más comunes de regularización. Estos actualizan la función de costo general al agregar otro término conocido como el término de regularización. Debido a la adición de este término de regularización, los valores de las matrices de peso disminuyen porque supone que una red neuronal con matrices de peso más pequeñas conduce a modelos más simples. Por lo tanto, también reducirá el sobreajuste en gran medida.\n",
    "\n",
    "#### Función de costo = Pérdida + Término de regularización\n",
    "\n"
   ]
  },
  {
   "cell_type": "code",
   "execution_count": null,
   "metadata": {},
   "outputs": [],
   "source": []
  }
 ],
 "metadata": {
  "kernelspec": {
   "display_name": "Python 3",
   "language": "python",
   "name": "python3"
  },
  "language_info": {
   "codemirror_mode": {
    "name": "ipython",
    "version": 3
   },
   "file_extension": ".py",
   "mimetype": "text/x-python",
   "name": "python",
   "nbconvert_exporter": "python",
   "pygments_lexer": "ipython3",
   "version": "3.7.3"
  }
 },
 "nbformat": 4,
 "nbformat_minor": 2
}
