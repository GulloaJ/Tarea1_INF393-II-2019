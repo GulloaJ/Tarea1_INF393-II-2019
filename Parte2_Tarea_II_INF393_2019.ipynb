{
  "nbformat": 4,
  "nbformat_minor": 0,
  "metadata": {
    "kernelspec": {
      "name": "python3",
      "display_name": "Python 3"
    },
    "language_info": {
      "codemirror_mode": {
        "name": "ipython",
        "version": 3
      },
      "file_extension": ".py",
      "mimetype": "text/x-python",
      "name": "python",
      "nbconvert_exporter": "python",
      "pygments_lexer": "ipython3",
      "version": "3.7.1"
    },
    "colab": {
      "name": "Parte2_TAREA.ipynb",
      "provenance": [],
      "toc_visible": true
    },
    "accelerator": "GPU"
  },
  "cells": [
    {
      "cell_type": "markdown",
      "metadata": {
        "id": "7lcfWEQ5fje-",
        "colab_type": "text"
      },
      "source": [
        "#### <a id=\"segundo\"></a>\n",
        "## 2. PARTE 2 TAREA: Estimación de edad de personas\n",
        "El problema de inferir ciertas características de una persona a través de una foto de ella puede resultar bastante dificil incluso para nosotros, como por ejemplo de qué país es, la emoción que expresa, la edad que tiene, o el género. La automatización de este proceso para que máquinas logren identificar ciertas características de una persona puede ser algo crucial para el futuro desarrollo de Inteligencia Artificial.\n",
        "\n",
        "<img src=\"https://i.imgur.com/6B072GE.jpg\" width=\"60%\" height=\"20%\" />\n",
        "\n",
        "Se trabajará con datos (imágenes) con el **objetivo** de predecir la **edad** (*target value*) de la persona presente en la imagen. Los datos corresponden a 3640 imágenes de rostros de personas extraídos de la plataforma Flickr\n",
        "```\n"
      ]
    },
    {
      "cell_type": "code",
      "metadata": {
        "id": "kKPpeS9XfjfA",
        "colab_type": "code",
        "colab": {}
      },
      "source": [
        "#importando librerías requeridas inicialmente\n",
        "\n",
        "import pandas as pd\n",
        "import numpy as np"
      ],
      "execution_count": 0,
      "outputs": []
    },
    {
      "cell_type": "code",
      "metadata": {
        "id": "G4jVXN4hfjfH",
        "colab_type": "code",
        "colab": {}
      },
      "source": [
        "#importando MAPE para su utilización como métrica de evaluación\n",
        "\n",
        "import numpy as np\n",
        "def mean_absolute_percentage_error(y_true, y_pred): \n",
        "    return np.mean(np.abs((y_true - y_pred) / y_true)) * 100"
      ],
      "execution_count": 0,
      "outputs": []
    },
    {
      "cell_type": "code",
      "metadata": {
        "id": "AoCGsy0ffjfO",
        "colab_type": "code",
        "colab": {}
      },
      "source": [
        "#datos para entrenamiento y test\n",
        "\n",
        "import scipy.io as sio\n",
        "mat_file = sio.loadmat(\"eventrain.mat\")\n",
        "mat_file_test = sio.loadmat(\"eventest.mat\")"
      ],
      "execution_count": 0,
      "outputs": []
    },
    {
      "cell_type": "code",
      "metadata": {
        "id": "iRPFS6e3fjfT",
        "colab_type": "code",
        "colab": {}
      },
      "source": [
        "#Se usarán los siguientes atributos para el entrenamiento del modelo\n",
        "\n",
        "data = mat_file[\"trcoll\"][0][0] # is \"tecoll\" for training set\n",
        "age_true = data[1] #target\n",
        "genClass = data[2] # gender class male or female\n",
        "genFeat = data[0]   # Contextual features\n",
        "ffcoefs = data[3]   # Fisherface space\n",
        "faceGist = data[4]  # GIST features"
      ],
      "execution_count": 0,
      "outputs": []
    },
    {
      "cell_type": "code",
      "metadata": {
        "id": "7kzEmSd2fjfX",
        "colab_type": "code",
        "colab": {}
      },
      "source": [
        "#Se usarán los siguientes atributos para el testing del modelo\n",
        "\n",
        "data = mat_file_test[\"tecoll\"][0][0] # is \"tecoll\" for testing set\n",
        "age_true_test = data[1] #target\n",
        "genClass_test = data[2] # gender class male or female\n",
        "genFeat_test = data[0]   # Contextual features\n",
        "ffcoefs_test = data[3]   # Fisherface space\n",
        "faceGist_test = data[4]  # GIST features"
      ],
      "execution_count": 0,
      "outputs": []
    },
    {
      "cell_type": "code",
      "metadata": {
        "id": "ejxKF38pfjfd",
        "colab_type": "code",
        "colab": {}
      },
      "source": [
        "# Conjunto de prueba\n",
        "\n",
        "#Acá se genera una concatenación de los atributos para trabajar con una gran matriz.\n",
        "\n",
        "X_test0 = np.concatenate((genClass_test, genFeat_test, ffcoefs_test, faceGist_test), axis = 1)\n",
        "Y_test0 = age_true_test[:,0]"
      ],
      "execution_count": 0,
      "outputs": []
    },
    {
      "cell_type": "code",
      "metadata": {
        "id": "TJfOrWICfjfh",
        "colab_type": "code",
        "colab": {}
      },
      "source": [
        "# Conjunto de entrenamiento\n",
        "\n",
        "#Acá se genera una concatenación de los atributos para trabajar con una gran matriz.\n",
        "\n",
        "X_train0 = np.concatenate((genClass, genFeat, ffcoefs, faceGist), axis = 1)\n",
        "Y_train0 = age_true[:,0]"
      ],
      "execution_count": 0,
      "outputs": []
    },
    {
      "cell_type": "code",
      "metadata": {
        "id": "SiC5KpZIfjfm",
        "colab_type": "code",
        "colab": {
          "base_uri": "https://localhost:8080/",
          "height": 34
        },
        "outputId": "8593d6c6-a71b-4bca-fb0f-6838a1b7bd2a"
      },
      "source": [
        "X_train0.shape"
      ],
      "execution_count": 38,
      "outputs": [
        {
          "output_type": "execute_result",
          "data": {
            "text/plain": [
              "(3500, 652)"
            ]
          },
          "metadata": {
            "tags": []
          },
          "execution_count": 38
        }
      ]
    },
    {
      "cell_type": "code",
      "metadata": {
        "id": "fkECRNR-fjft",
        "colab_type": "code",
        "colab": {
          "base_uri": "https://localhost:8080/",
          "height": 34
        },
        "outputId": "9f20ca03-8f9d-4683-9511-4a94b1dc8c83"
      },
      "source": [
        "Y_train0.shape"
      ],
      "execution_count": 39,
      "outputs": [
        {
          "output_type": "execute_result",
          "data": {
            "text/plain": [
              "(3500,)"
            ]
          },
          "metadata": {
            "tags": []
          },
          "execution_count": 39
        }
      ]
    },
    {
      "cell_type": "markdown",
      "metadata": {
        "id": "nrbgPh5Rfjfy",
        "colab_type": "text"
      },
      "source": [
        "#### Uso de métodos de selección de atributos para el Modelo"
      ]
    },
    {
      "cell_type": "code",
      "metadata": {
        "id": "DWpsa-PHfjfz",
        "colab_type": "code",
        "colab": {}
      },
      "source": [
        "from sklearn.feature_selection import SelectKBest, f_classif"
      ],
      "execution_count": 0,
      "outputs": []
    },
    {
      "cell_type": "code",
      "metadata": {
        "id": "TjixU1VOfjf4",
        "colab_type": "code",
        "colab": {}
      },
      "source": [
        "# Aplicando el algoritmo univariante de prueba F para selecciòn de atributos\n",
        "\n",
        "k = 3  # número de atributos a seleccionar\n",
        "selector = SelectKBest(f_classif, k=k).fit(X_train0, Y_train0)\n"
      ],
      "execution_count": 0,
      "outputs": []
    },
    {
      "cell_type": "code",
      "metadata": {
        "id": "NgcgCpPJfjf8",
        "colab_type": "code",
        "colab": {}
      },
      "source": [
        "X_train_new = selector.transform(X_train0)"
      ],
      "execution_count": 0,
      "outputs": []
    },
    {
      "cell_type": "code",
      "metadata": {
        "id": "LkQ0iod3fjgB",
        "colab_type": "code",
        "colab": {
          "base_uri": "https://localhost:8080/",
          "height": 134
        },
        "outputId": "a0c34633-cd09-4719-fbd6-dfb84af78137"
      },
      "source": [
        "print(X_train_new)"
      ],
      "execution_count": 43,
      "outputs": [
        {
          "output_type": "stream",
          "text": [
            "[[34.          1.04286927  0.11850787]\n",
            " [12.          1.04286927 -7.8452211 ]\n",
            " [35.          1.05996663  0.49773306]\n",
            " ...\n",
            " [39.          0.82285398  1.6561822 ]\n",
            " [81.          0.81634195  3.33111238]\n",
            " [61.          0.8557424   3.40514165]]\n"
          ],
          "name": "stdout"
        }
      ]
    },
    {
      "cell_type": "markdown",
      "metadata": {
        "id": "3LhTk07LfjgG",
        "colab_type": "text"
      },
      "source": [
        "Se puede observar que se han seleccionado 3 atributos: genFeat (Contextual features), ffcoef (fisherface space) y faceGist (GIST features) por lo tanto se trabajará con ellos solamente en el modelo."
      ]
    },
    {
      "cell_type": "code",
      "metadata": {
        "id": "QnGS-1KMfjgH",
        "colab_type": "code",
        "colab": {}
      },
      "source": [
        "# Conjunto de prueba FINAL solo con los 3 atributos seleccionados en la prueba anterior.\n",
        "\n",
        "#Acá se genera una concatenación de los atributos para trabajar con una gran matriz.\n",
        "\n",
        "X_test = np.concatenate((genFeat_test, ffcoefs_test, faceGist_test), axis = 1)\n",
        "Y_test = age_true_test[:,0]\n"
      ],
      "execution_count": 0,
      "outputs": []
    },
    {
      "cell_type": "code",
      "metadata": {
        "id": "AeiLsbvNfjgL",
        "colab_type": "code",
        "colab": {}
      },
      "source": [
        "# Conjunto de entrenamiento FINAL solo con los 3 atributos seleccionados en la prueba anterior.\n",
        "\n",
        "#Acá se genera una concatenación de los atributos para trabajar con una gran matriz.\n",
        "\n",
        "X_train = np.concatenate((genFeat, ffcoefs, faceGist), axis = 1)\n",
        "Y_train = age_true[:,0]\n"
      ],
      "execution_count": 0,
      "outputs": []
    },
    {
      "cell_type": "markdown",
      "metadata": {
        "id": "CCrfG9rGfjgQ",
        "colab_type": "text"
      },
      "source": [
        "### A continuación se prueba con otro modelo solamente para ver como se está comportando (algo totalmente opcional) se usa Random Forest para esto:"
      ]
    },
    {
      "cell_type": "code",
      "metadata": {
        "id": "RK7RVPSefjgS",
        "colab_type": "code",
        "colab": {}
      },
      "source": [
        "#Uso opcional de prueba de Random Forest.\n",
        "\n",
        "from sklearn.ensemble import RandomForestRegressor\n",
        "\n",
        "rf_clf = RandomForestRegressor(n_jobs=-1)"
      ],
      "execution_count": 0,
      "outputs": []
    },
    {
      "cell_type": "code",
      "metadata": {
        "id": "Q_Sl5rQ_fjgW",
        "colab_type": "code",
        "colab": {
          "base_uri": "https://localhost:8080/",
          "height": 188
        },
        "outputId": "e0f9a56c-67b1-49ae-9f06-27fa9ae102c1"
      },
      "source": [
        "#Entrenamiento con Random Forest \n",
        "\n",
        "rf_clf.fit(X_train, Y_train)"
      ],
      "execution_count": 47,
      "outputs": [
        {
          "output_type": "stream",
          "text": [
            "/usr/local/lib/python3.6/dist-packages/sklearn/ensemble/forest.py:245: FutureWarning: The default value of n_estimators will change from 10 in version 0.20 to 100 in 0.22.\n",
            "  \"10 in version 0.20 to 100 in 0.22.\", FutureWarning)\n"
          ],
          "name": "stderr"
        },
        {
          "output_type": "execute_result",
          "data": {
            "text/plain": [
              "RandomForestRegressor(bootstrap=True, criterion='mse', max_depth=None,\n",
              "                      max_features='auto', max_leaf_nodes=None,\n",
              "                      min_impurity_decrease=0.0, min_impurity_split=None,\n",
              "                      min_samples_leaf=1, min_samples_split=2,\n",
              "                      min_weight_fraction_leaf=0.0, n_estimators=10, n_jobs=-1,\n",
              "                      oob_score=False, random_state=None, verbose=0,\n",
              "                      warm_start=False)"
            ]
          },
          "metadata": {
            "tags": []
          },
          "execution_count": 47
        }
      ]
    },
    {
      "cell_type": "code",
      "metadata": {
        "id": "oAHv1oaRfjgb",
        "colab_type": "code",
        "colab": {
          "base_uri": "https://localhost:8080/",
          "height": 34
        },
        "outputId": "ba564b17-425b-4cc3-a160-25cfe26e353d"
      },
      "source": [
        "#MAPE en Random Forest\n",
        "\n",
        "mean_absolute_percentage_error(Y_train, rf_clf.predict(X_train))"
      ],
      "execution_count": 48,
      "outputs": [
        {
          "output_type": "execute_result",
          "data": {
            "text/plain": [
              "84.55979463785515"
            ]
          },
          "metadata": {
            "tags": []
          },
          "execution_count": 48
        }
      ]
    },
    {
      "cell_type": "code",
      "metadata": {
        "id": "gE0sLL9Dfjgg",
        "colab_type": "code",
        "colab": {
          "base_uri": "https://localhost:8080/",
          "height": 34
        },
        "outputId": "0176d87a-3cc7-43fa-fce0-8c7816cb0c3b"
      },
      "source": [
        "#MAPE en Random Forest \n",
        "\n",
        "mean_absolute_percentage_error(Y_test, rf_clf.predict(X_test))"
      ],
      "execution_count": 49,
      "outputs": [
        {
          "output_type": "execute_result",
          "data": {
            "text/plain": [
              "207.83872529011603"
            ]
          },
          "metadata": {
            "tags": []
          },
          "execution_count": 49
        }
      ]
    },
    {
      "cell_type": "markdown",
      "metadata": {
        "id": "YS-On_qhfjgo",
        "colab_type": "text"
      },
      "source": [
        "### A continuación se hará uso opcinal de redes feed forward (redes neuronales densas en este caso)"
      ]
    },
    {
      "cell_type": "code",
      "metadata": {
        "id": "aOb0ip9Kfjgr",
        "colab_type": "code",
        "colab": {}
      },
      "source": [
        "import tensorflow as tf\n",
        "import keras\n",
        "\n",
        "from keras.models import Sequential\n",
        "from keras.layers import Dense\n",
        "from keras.layers.advanced_activations import LeakyReLU"
      ],
      "execution_count": 0,
      "outputs": []
    },
    {
      "cell_type": "code",
      "metadata": {
        "id": "u_AAcFm2fjg0",
        "colab_type": "code",
        "colab": {
          "base_uri": "https://localhost:8080/",
          "height": 34
        },
        "outputId": "19ba3253-29b7-4bf5-93fa-7a245f184b89"
      },
      "source": [
        "X_train.shape[1]"
      ],
      "execution_count": 51,
      "outputs": [
        {
          "output_type": "execute_result",
          "data": {
            "text/plain": [
              "651"
            ]
          },
          "metadata": {
            "tags": []
          },
          "execution_count": 51
        }
      ]
    },
    {
      "cell_type": "code",
      "metadata": {
        "id": "_pJ-vCl9fjg6",
        "colab_type": "code",
        "colab": {}
      },
      "source": [
        "#CONSTRUCCION DE LA ARQUITECTURA DE LA RED\n",
        "#Se usará la funnción de activación relu, que es una de las cuales mejores resultados ha arrojado probando\n",
        "#Del mismo modo una regularización del Kernel mediante \"l2 y un inicializador de este con glorot_uniform.\n",
        "\n",
        "base_nn = Sequential()\n",
        "base_nn.add(\n",
        "    Dense(30, input_dim = X_train.shape[1],\n",
        "         kernel_initializer = 'glorot_uniform',\n",
        "         activation = 'relu',\n",
        "         name = 'input_layer')\n",
        ")\n",
        "\n",
        "base_nn.add(\n",
        "    Dense(100,\n",
        "         kernel_initializer = 'glorot_uniform',\n",
        "         activation = 'relu',\n",
        "          kernel_regularizer = 'l2',\n",
        "         name = 'hidden_1')\n",
        ")\n",
        "\n",
        "base_nn.add(\n",
        "    Dense(100,\n",
        "         kernel_initializer = 'glorot_uniform',\n",
        "         activation = 'relu',\n",
        "          kernel_regularizer = 'l2',\n",
        "         name = 'hidden_2')\n",
        ")\n",
        "base_nn.add(\n",
        "    Dense(100,\n",
        "         kernel_initializer = 'glorot_uniform',\n",
        "          kernel_regularizer = 'l2',\n",
        "         activation = 'relu',\n",
        "         name = 'hidden_3')\n",
        ")\n",
        "base_nn.add(\n",
        "    Dense(100,\n",
        "         kernel_initializer = 'glorot_uniform',\n",
        "         activation = 'relu',\n",
        "        kernel_regularizer = 'l2',\n",
        "         name = 'hidden_4')\n",
        ")\n",
        "base_nn.add(\n",
        "    Dense(100,\n",
        "         kernel_initializer = 'glorot_uniform',\n",
        "         activation = 'relu',\n",
        "         kernel_regularizer = 'l2',\n",
        "         name = 'hidden_5')\n",
        ")\n",
        "\n",
        "base_nn.add(\n",
        "    Dense(50,\n",
        "         kernel_initializer = 'glorot_uniform',\n",
        "         activation = 'relu',\n",
        "         kernel_regularizer = 'l2',\n",
        "         name = 'hidden_6')\n",
        ")\n",
        "\n",
        "base_nn.add(\n",
        "    Dense(20,\n",
        "         kernel_initializer = 'glorot_uniform',\n",
        "         activation = 'relu',\n",
        "         name = 'hidden_7')\n",
        ")\n",
        "base_nn.add(\n",
        "    Dense(1,\n",
        "         kernel_initializer = 'glorot_uniform',\n",
        "         activation = 'relu',\n",
        "         name = 'out')\n",
        ")"
      ],
      "execution_count": 0,
      "outputs": []
    },
    {
      "cell_type": "code",
      "metadata": {
        "id": "hTEZNbQPfjhA",
        "colab_type": "code",
        "colab": {
          "base_uri": "https://localhost:8080/",
          "height": 454
        },
        "outputId": "c0a8671c-952b-49ff-c55f-e3e763d8fbff"
      },
      "source": [
        "base_nn.summary()"
      ],
      "execution_count": 53,
      "outputs": [
        {
          "output_type": "stream",
          "text": [
            "Model: \"sequential_2\"\n",
            "_________________________________________________________________\n",
            "Layer (type)                 Output Shape              Param #   \n",
            "=================================================================\n",
            "input_layer (Dense)          (None, 30)                19560     \n",
            "_________________________________________________________________\n",
            "hidden_1 (Dense)             (None, 100)               3100      \n",
            "_________________________________________________________________\n",
            "hidden_2 (Dense)             (None, 100)               10100     \n",
            "_________________________________________________________________\n",
            "hidden_3 (Dense)             (None, 100)               10100     \n",
            "_________________________________________________________________\n",
            "hidden_4 (Dense)             (None, 100)               10100     \n",
            "_________________________________________________________________\n",
            "hidden_5 (Dense)             (None, 100)               10100     \n",
            "_________________________________________________________________\n",
            "hidden_6 (Dense)             (None, 50)                5050      \n",
            "_________________________________________________________________\n",
            "hidden_7 (Dense)             (None, 20)                1020      \n",
            "_________________________________________________________________\n",
            "out (Dense)                  (None, 1)                 21        \n",
            "=================================================================\n",
            "Total params: 69,151\n",
            "Trainable params: 69,151\n",
            "Non-trainable params: 0\n",
            "_________________________________________________________________\n"
          ],
          "name": "stdout"
        }
      ]
    },
    {
      "cell_type": "code",
      "metadata": {
        "id": "Zh67LbwsfjhD",
        "colab_type": "code",
        "colab": {}
      },
      "source": [
        "from sklearn.model_selection import train_test_split\n",
        "\n",
        "X_train_2, x_val, Y_train_2, y_val = train_test_split(X_train, Y_train, random_state = 11235813, test_size = .33)"
      ],
      "execution_count": 0,
      "outputs": []
    },
    {
      "cell_type": "code",
      "metadata": {
        "id": "hzwp2IBSfjhL",
        "colab_type": "code",
        "colab": {}
      },
      "source": [
        "from keras.callbacks import History\n",
        "history = History()"
      ],
      "execution_count": 0,
      "outputs": []
    },
    {
      "cell_type": "code",
      "metadata": {
        "id": "WReCsPh_fjhP",
        "colab_type": "code",
        "colab": {
          "base_uri": "https://localhost:8080/",
          "height": 34
        },
        "outputId": "5c0b3233-7c2a-478e-d0f2-ba1ac456ecd1"
      },
      "source": [
        "#Optimizador Adagrad, función de pérdida se usará la métrica de evaluación MAPE\n",
        "# Se corroboró con varios epochs, dejando 200 finalmente\n",
        "\n",
        "from keras.optimizers import Adagrad\n",
        "\n",
        "base_nn.compile(optimizer=Adagrad(), loss = 'MAPE', metrics = ['mse'])\n",
        "base_nn.fit(X_train_2, Y_train_2, epochs = 200, batch_size = 128, verbose = 0, callbacks=[history], validation_data=(x_val, y_val))"
      ],
      "execution_count": 56,
      "outputs": [
        {
          "output_type": "execute_result",
          "data": {
            "text/plain": [
              "<keras.callbacks.History at 0x7fcb1006bdd8>"
            ]
          },
          "metadata": {
            "tags": []
          },
          "execution_count": 56
        }
      ]
    },
    {
      "cell_type": "code",
      "metadata": {
        "id": "fwHDEXvefjhT",
        "colab_type": "code",
        "colab": {
          "base_uri": "https://localhost:8080/",
          "height": 34
        },
        "outputId": "52c23d29-6efb-45fc-d4c3-d352876735b9"
      },
      "source": [
        "history.history.keys()"
      ],
      "execution_count": 57,
      "outputs": [
        {
          "output_type": "execute_result",
          "data": {
            "text/plain": [
              "dict_keys(['val_loss', 'val_mean_squared_error', 'loss', 'mean_squared_error'])"
            ]
          },
          "metadata": {
            "tags": []
          },
          "execution_count": 57
        }
      ]
    },
    {
      "cell_type": "code",
      "metadata": {
        "id": "1QG3VP8gfjhW",
        "colab_type": "code",
        "colab": {}
      },
      "source": [
        "loss_train = history.history['loss']\n",
        "loss_val = history.history['val_loss']"
      ],
      "execution_count": 0,
      "outputs": []
    },
    {
      "cell_type": "code",
      "metadata": {
        "id": "ov1FYLYSfjhZ",
        "colab_type": "code",
        "colab": {
          "base_uri": "https://localhost:8080/",
          "height": 540
        },
        "outputId": "86ba852f-3465-4549-c696-d6356c0eb4be"
      },
      "source": [
        "import matplotlib.pyplot as plt\n",
        "import seaborn as sn\n",
        "print('Final loss (Validation): {0}'.format(loss_val[-1].round(4)))\n",
        "\n",
        "fig,_ = plt.subplots(figsize = (16,8))\n",
        "plt.title('MAPE across training for 200 epoch', size = 20)\n",
        "plt.xlabel('Epoch', size = 15)\n",
        "plt.ylabel('MAPE', size = 15)\n",
        "plt.plot(range(1,201), loss_train, '-', label = 'Train MAPE');\n",
        "plt.plot(range(1,201), loss_val, '-', label = 'Validation MAPE');\n",
        "plt.legend();\n",
        "sn.despine()"
      ],
      "execution_count": 59,
      "outputs": [
        {
          "output_type": "stream",
          "text": [
            "Final loss (Validation): 102.0312\n"
          ],
          "name": "stdout"
        },
        {
          "output_type": "display_data",
          "data": {
            "image/png": "[encoded data removed]",
            "text/plain": [
              "<Figure size 1152x576 with 1 Axes>"
            ]
          },
          "metadata": {
            "tags": []
          }
        }
      ]
    },
    {
      "cell_type": "code",
      "metadata": {
        "id": "dXOUU7X6fjhf",
        "colab_type": "code",
        "colab": {
          "base_uri": "https://localhost:8080/",
          "height": 34
        },
        "outputId": "0c1186ca-3bd3-40ea-ebf7-8e756da7cefe"
      },
      "source": [
        "#USO OPCIONAL PARA CORROBORAR error\n",
        "\n",
        "from sklearn.metrics import mean_absolute_error\n",
        "\n",
        "mean_absolute_error(Y_test, base_nn.predict(X_test))"
      ],
      "execution_count": 60,
      "outputs": [
        {
          "output_type": "execute_result",
          "data": {
            "text/plain": [
              "26.571428"
            ]
          },
          "metadata": {
            "tags": []
          },
          "execution_count": 60
        }
      ]
    },
    {
      "cell_type": "code",
      "metadata": {
        "id": "JiZDnBpbfjhi",
        "colab_type": "code",
        "colab": {
          "base_uri": "https://localhost:8080/",
          "height": 34
        },
        "outputId": "d7805cf0-8583-4644-cbba-4c8ac3a00e31"
      },
      "source": [
        "#MAPE SOLICITADO PARA LA RED NEURONAL\n",
        "\n",
        "mean_absolute_percentage_error(Y_test, base_nn.predict(X_test))\n"
      ],
      "execution_count": 61,
      "outputs": [
        {
          "output_type": "execute_result",
          "data": {
            "text/plain": [
              "100.0"
            ]
          },
          "metadata": {
            "tags": []
          },
          "execution_count": 61
        }
      ]
    },
    {
      "cell_type": "code",
      "metadata": {
        "id": "DMAxcQ6jfjhm",
        "colab_type": "code",
        "colab": {
          "base_uri": "https://localhost:8080/",
          "height": 34
        },
        "outputId": "ec0c6302-1b9b-4415-95c0-28ae51068b78"
      },
      "source": [
        "#RECORDANDO MAPE CON RANDOM FOREST PARA COMPARACIÓN CON LA RED NEURONAL\n",
        "\n",
        "mean_absolute_percentage_error(Y_test, rf_clf.predict(X_test))"
      ],
      "execution_count": 62,
      "outputs": [
        {
          "output_type": "execute_result",
          "data": {
            "text/plain": [
              "207.83872529011603"
            ]
          },
          "metadata": {
            "tags": []
          },
          "execution_count": 62
        }
      ]
    },
    {
      "cell_type": "code",
      "metadata": {
        "id": "frpVooY1fjhs",
        "colab_type": "code",
        "colab": {
          "base_uri": "https://localhost:8080/",
          "height": 373
        },
        "outputId": "eb9e65a8-8428-4ca5-b8ac-f3c97bf926f4"
      },
      "source": [
        "#Gráfico de distibución\n",
        "\n",
        "sn.distplot(base_nn.predict(X_test))"
      ],
      "execution_count": 63,
      "outputs": [
        {
          "output_type": "stream",
          "text": [
            "/usr/local/lib/python3.6/dist-packages/statsmodels/nonparametric/kde.py:487: RuntimeWarning: invalid value encountered in true_divide\n",
            "  binned = fast_linbin(X, a, b, gridsize) / (delta * nobs)\n",
            "/usr/local/lib/python3.6/dist-packages/statsmodels/nonparametric/kdetools.py:34: RuntimeWarning: invalid value encountered in double_scalars\n",
            "  FAC1 = 2*(np.pi*bw/RANGE)**2\n"
          ],
          "name": "stderr"
        },
        {
          "output_type": "execute_result",
          "data": {
            "text/plain": [
              "<matplotlib.axes._subplots.AxesSubplot at 0x7fcaced35668>"
            ]
          },
          "metadata": {
            "tags": []
          },
          "execution_count": 63
        },
        {
          "output_type": "display_data",
          "data": {
            "image/png": "[encoded data removed]",
            "text/plain": [
              "<Figure size 432x288 with 1 Axes>"
            ]
          },
          "metadata": {
            "tags": []
          }
        }
      ]
    },
    {
      "cell_type": "code",
      "metadata": {
        "id": "ePJTLP2ifjhx",
        "colab_type": "code",
        "colab": {
          "base_uri": "https://localhost:8080/",
          "height": 286
        },
        "outputId": "4585d281-1d2c-4440-9d69-1a9c354060f4"
      },
      "source": [
        "#Gráfico de distibución\n",
        "\n",
        "sn.distplot(Y_test)"
      ],
      "execution_count": 64,
      "outputs": [
        {
          "output_type": "execute_result",
          "data": {
            "text/plain": [
              "<matplotlib.axes._subplots.AxesSubplot at 0x7fcaced04da0>"
            ]
          },
          "metadata": {
            "tags": []
          },
          "execution_count": 64
        },
        {
          "output_type": "display_data",
          "data": {
            "image/png": "[encoded data removed]",
            "text/plain": [
              "<Figure size 432x288 with 1 Axes>"
            ]
          },
          "metadata": {
            "tags": []
          }
        }
      ]
    },
    {
      "cell_type": "markdown",
      "metadata": {
        "id": "YHmRbs3xfjh3",
        "colab_type": "text"
      },
      "source": [
        "### A continuación se hará uso de Regresión Lineal de mı́nimos cuadrados básica final."
      ]
    },
    {
      "cell_type": "code",
      "metadata": {
        "id": "RWHZsalOfjh4",
        "colab_type": "code",
        "colab": {}
      },
      "source": [
        "from sklearn.linear_model import LinearRegression\n",
        "from sklearn.preprocessing import StandardScaler"
      ],
      "execution_count": 0,
      "outputs": []
    },
    {
      "cell_type": "code",
      "metadata": {
        "id": "5M-IrW0Pfjh7",
        "colab_type": "code",
        "colab": {
          "base_uri": "https://localhost:8080/",
          "height": 34
        },
        "outputId": "f096b3a5-9297-4392-a74e-7deafe5b1c66"
      },
      "source": [
        "#Modelo SIN estandarización de datos\n",
        "\n",
        "model = LinearRegression(fit_intercept=True)\n",
        "model.fit(X_train, Y_train)\n"
      ],
      "execution_count": 66,
      "outputs": [
        {
          "output_type": "execute_result",
          "data": {
            "text/plain": [
              "LinearRegression(copy_X=True, fit_intercept=True, n_jobs=None, normalize=False)"
            ]
          },
          "metadata": {
            "tags": []
          },
          "execution_count": 66
        }
      ]
    },
    {
      "cell_type": "code",
      "metadata": {
        "id": "K15GZvsXfjiD",
        "colab_type": "code",
        "colab": {}
      },
      "source": [
        "pred_train = model.predict(X_train)\n",
        "pred_test = model.predict(X_test)\n"
      ],
      "execution_count": 0,
      "outputs": []
    },
    {
      "cell_type": "code",
      "metadata": {
        "id": "lL1_GSX4fjiG",
        "colab_type": "code",
        "colab": {
          "base_uri": "https://localhost:8080/",
          "height": 34
        },
        "outputId": "ea14f5ed-fc86-41c6-d326-75c386b42ec3"
      },
      "source": [
        "#MAPE SOLICITADO PARA LA REGRESIÓN SIN estandarizar datos:\n",
        "\n",
        "mean_absolute_percentage_error(Y_test, model.predict(X_test))\n"
      ],
      "execution_count": 68,
      "outputs": [
        {
          "output_type": "execute_result",
          "data": {
            "text/plain": [
              "266.5498713712991"
            ]
          },
          "metadata": {
            "tags": []
          },
          "execution_count": 68
        }
      ]
    },
    {
      "cell_type": "code",
      "metadata": {
        "id": "slP1qr-VfjiK",
        "colab_type": "code",
        "colab": {}
      },
      "source": [
        "#Modelo CON estandarización de datos\n",
        "\n",
        "std = StandardScaler()\n",
        "std.fit(X_train)\n",
        "Xstd_train = std.transform(X_train) \n",
        "Xstd_test = std.transform(X_test)\n"
      ],
      "execution_count": 0,
      "outputs": []
    },
    {
      "cell_type": "code",
      "metadata": {
        "id": "Isx-e_nsfjiM",
        "colab_type": "code",
        "colab": {
          "base_uri": "https://localhost:8080/",
          "height": 34
        },
        "outputId": "69bff061-b691-40a7-a6df-51fccedfdf09"
      },
      "source": [
        "model2 = LinearRegression(fit_intercept=True)\n",
        "model2.fit(Xstd_train, Y_train)"
      ],
      "execution_count": 70,
      "outputs": [
        {
          "output_type": "execute_result",
          "data": {
            "text/plain": [
              "LinearRegression(copy_X=True, fit_intercept=True, n_jobs=None, normalize=False)"
            ]
          },
          "metadata": {
            "tags": []
          },
          "execution_count": 70
        }
      ]
    },
    {
      "cell_type": "code",
      "metadata": {
        "id": "6ogMd7cDfjiP",
        "colab_type": "code",
        "colab": {}
      },
      "source": [
        "pred_train2 = model2.predict(Xstd_train)\n",
        "pred_test2 = model2.predict(Xstd_test)"
      ],
      "execution_count": 0,
      "outputs": []
    },
    {
      "cell_type": "code",
      "metadata": {
        "id": "h25vWDjRfjiS",
        "colab_type": "code",
        "colab": {
          "base_uri": "https://localhost:8080/",
          "height": 34
        },
        "outputId": "5f77f361-c626-4add-8085-249d8208d6a7"
      },
      "source": [
        "#MAPE SOLICITADO PARA LA REGRESIÓN CON estandarizar datos:\n",
        "\n",
        "mean_absolute_percentage_error(Y_test, model2.predict(Xstd_test))\n"
      ],
      "execution_count": 72,
      "outputs": [
        {
          "output_type": "execute_result",
          "data": {
            "text/plain": [
              "266.5498713727641"
            ]
          },
          "metadata": {
            "tags": []
          },
          "execution_count": 72
        }
      ]
    },
    {
      "cell_type": "markdown",
      "metadata": {
        "id": "BbAy2EEhfjiZ",
        "colab_type": "text"
      },
      "source": [
        "## Algunas consideraciones finales:\n",
        "\n",
        "\n",
        "### Se encuentran mejores ajustes mediante el uso de la red neuronal con la configuración dada. Se probaron distintas configuraciones, del mismo modo distintos optimizadores y funciones de activación. El uso de la combinación del regularizador l2 y del inicializador \"glorot_uniform\" para el kernel mejoraron considerablemente el resultado final, logrando una mejor uniformidad de las muestras, lo que generó una disminución del MAPE final. \n",
        "\n",
        "### Cabe señalar que el uso de la Red Neuronal densa y la regresión Random Forest han sido opcionales para corroborar otros MAPE con los mismos datos que fueron seleccionados inicialmente. Finalmente se genera una Regresión Lineal de Mínimos Cuadrados básica como es solicitado y se cálcula el error final.\n",
        "\n",
        "### Arquitectura de la red neuronal opcional usada\n",
        "\n",
        "#### El uso de la famosa función de activación ReLU usada en la Arquitectura elegida para la red se debe a que cuando procesamos una imagen, cada capa de convolución debe capturar algún patrón en la imagen y pasarla en la siguiente capa de convolución. Los valores negativos no son importantes en el procesamiento de imágenes y, por lo tanto, se establecen en 0. Pero los valores positivos después de la convolución deben pasar a la siguiente capa. Es por eso que Relu se utiliza bastante como una función de activación en redes neuronales, más aún cuando se trabaja con patrones en imágenes.\n",
        "\n",
        "#### ReLU (x) = 0 si x = 0.\n",
        "\n",
        "#### Del mismo modo el uso de inicializador del nucleo es importante ya que la red neuronal necesita comenzar con algunos pesos y luego actualizarlos iterativamente a mejores valores. El t kernel_initializer es un término que se utiliza como función para inicializar los pesos y una de las ampliamente utilizadas es la glorot_uniform.\n",
        "\n",
        "#### Se uso además unn regularizador para evitar el sobreajuste que se encontró en algún momento al no usar este regularizador, L1 y L2 son los tipos más comunes de regularización. Estos actualizan la función de costo general al agregar otro término conocido como el término de regularización. Debido a la adición de este término de regularización, los valores de las matrices de peso disminuyen porque supone que una red neuronal con matrices de peso más pequeñas conduce a modelos más simples. Por lo tanto, también reducirá el sobreajuste en gran medida.\n",
        "\n",
        "#### Función de costo = Pérdida + Término de regularización\n",
        "\n",
        "### MAPES finales de los 3 modelos:\n",
        "\n",
        "#### MAPE Red Neuronal Densa = 100\n",
        "#### MAPE Random Forest = 208\n",
        "### MAPE Regresión Lineal = 266\n",
        "\n",
        "#### La estandarización de los datos de entrada para este caso no aportó una mejoría sustancial.\n",
        "\n",
        "** La red no ha sido ejecutada en el envío para no sobrecargar tanto el Notebook, puede ser ejecutada para corroborar resultados, del mismo modo los gráficos generados.\n",
        "\n"
      ]
    },
    {
      "cell_type": "code",
      "metadata": {
        "id": "NiKkYERufjia",
        "colab_type": "code",
        "colab": {}
      },
      "source": [
        ""
      ],
      "execution_count": 0,
      "outputs": []
    }
  ]
}